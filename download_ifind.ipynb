{
 "cells": [
  {
   "cell_type": "code",
   "execution_count": null,
   "metadata": {},
   "outputs": [],
   "source": [
    "import netrc\n",
    "\n",
    "OUTPUT=\"/Users/mmodat/Data/temp_ifind\"\n",
    "SERVER=\"https://int-xnat01.isd.kcl.ac.uk\"\n",
    "PROJECT=\"FHEART\"\n",
    "\n",
    "USER, _, PWD = netrc.netrc().authenticators(SERVER)"
   ]
  },
  {
   "cell_type": "code",
   "execution_count": null,
   "metadata": {},
   "outputs": [],
   "source": [
    "import pandas as pd\n",
    "import requests\n",
    "import json\n",
    "import os\n",
    "\n",
    "# Download the list of existing sessions on XNAT\n",
    "reqSession = requests.session()\n",
    "url = \"{}/data/projects/{}/experiments?format=json\".format(SERVER, PROJECT)\n",
    "r = reqSession.get(url,\n",
    "                  verify=False,\n",
    "                  auth=(USER,\n",
    "                        PWD))\n",
    "reqSession.close()\n",
    "raw_data = pd.DataFrame(r.json()['ResultSet']['Result'])"
   ]
  },
  {
   "cell_type": "code",
   "execution_count": null,
   "metadata": {},
   "outputs": [],
   "source": [
    "reqSession = requests.session()\n",
    "\n",
    "# Loop over all the session already on XNAT\n",
    "for i, row in raw_data[['ID', 'label']].iterrows():\n",
    "    id = row[0]\n",
    "    session = row[1]\n",
    "    subject, session = session.split('_')\n",
    "    subject_folder = os.path.join(OUTPUT, subject)\n",
    "    session_folder = os.path.join(subject_folder, session)\n",
    "    # Create folders for subject and session if they don't already exist\n",
    "    if not os.path.isdir(subject_folder):\n",
    "        os.mkdir(subject_folder)\n",
    "    if not os.path.isdir(session_folder):\n",
    "        os.mkdir(session_folder)\n",
    "        # Pull the list of files for current session\n",
    "        url = \"{}/data/projects/{}/subjects/{}/experiments/{}/scans/ALL/files\".format(\n",
    "            SERVER,\n",
    "            PROJECT,\n",
    "            subject,\n",
    "            id)\n",
    "        r = reqSession.get(url,\n",
    "                           verify=False,\n",
    "                           auth=(USER,\n",
    "                                 PWD))\n",
    "\n",
    "        file_data = pd.DataFrame(r.json()['ResultSet']['Result'])[['URI', 'Name']]\n",
    "\n",
    "        # Download the actual files one at the time to avoid issues with too large files\n",
    "        for j, row_file in file_data.iterrows():\n",
    "            url = \"{}{}\".format(SERVER, row_file[0])\n",
    "            r = reqSession.get(url,\n",
    "                               verify=False,\n",
    "                               auth=(USER,\n",
    "                                     PWD))\n",
    "            with open(os.path.join(session_folder, row_file[1]), 'wb') as f:\n",
    "                f.write(r.content)\n",
    "            break\n",
    "        \n",
    "reqSession.close()"
   ]
  },
  {
   "cell_type": "code",
   "execution_count": null,
   "metadata": {},
   "outputs": [],
   "source": []
  }
 ],
 "metadata": {
  "kernelspec": {
   "display_name": "Python 3.8.6 64-bit",
   "language": "python",
   "name": "python3"
  },
  "language_info": {
   "codemirror_mode": {
    "name": "ipython",
    "version": 3
   },
   "file_extension": ".py",
   "mimetype": "text/x-python",
   "name": "python",
   "nbconvert_exporter": "python",
   "pygments_lexer": "ipython3",
   "version": "3.8.6"
  },
  "orig_nbformat": 4,
  "vscode": {
   "interpreter": {
    "hash": "aee8b7b246df8f9039afb4144a1f6fd8d2ca17a180786b69acc140d282b71a49"
   }
  }
 },
 "nbformat": 4,
 "nbformat_minor": 2
}
